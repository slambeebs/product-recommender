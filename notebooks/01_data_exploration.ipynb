{
 "cells": [
  {
   "cell_type": "markdown",
   "id": "62315579",
   "metadata": {},
   "source": [
    "# 📊 Data Exploration\n",
    "This notebook explores the dataset, shows basic statistics, and visualizes sample images."
   ]
  },
  {
   "cell_type": "code",
   "execution_count": 1,
   "id": "52483f78",
   "metadata": {},
   "outputs": [
    {
     "name": "stdout",
     "output_type": "stream",
     "text": [
      "Classes found: ['Mugs', 'Plates', 'Bowls']\n",
      "Total images: 1500\n",
      "Mugs: 500, Plates: 500, Bowls: 500\n"
     ]
    }
   ],
   "source": [
    "import pathlib\n",
    "from collections import Counter\n",
    "import matplotlib.pyplot as plt\n",
    "import tensorflow as tf\n",
    "\n",
    "data_dir = pathlib.Path('dataset')\n",
    "class_names = [p.name for p in data_dir.iterdir() if p.is_dir()]\n",
    "print('Classes found:', class_names)\n",
    "\n",
    "image_count = sum(len(list((data_dir/c).glob('*'))) for c in class_names)\n",
    "print(f'Total images: {image_count}')\n",
    "\n",
    "for c in class_names:\n",
    "    count = len(list((data_dir/c).glob('*')))\n",
    "    print(f\"{c}: {count}\")"
   ]
  },
  {
   "cell_type": "code",
   "execution_count": 2,
   "id": "302ad9ec",
   "metadata": {},
   "outputs": [
    {
     "data": {
      "text/plain": [
       "<Figure size 640x480 with 4 Axes>"
      ]
     },
     "execution_count": 2,
     "metadata": {},
     "output_type": "execute_result"
    }
   ],
   "source": [
    "plt.figure(figsize=(8,8))\n",
    "for i, c in enumerate(class_names):\n",
    "    img_path = list((data_dir/c).glob('*'))[0]\n",
    "    img = tf.keras.utils.load_img(img_path, target_size=(128,128))\n",
    "    plt.subplot(2,2,i+1)\n",
    "    plt.imshow(img)\n",
    "    plt.title(c)\n",
    "    plt.axis('off')\n",
    "plt.show()"
   ]
  }
 ],
 "metadata": {
  "kernelspec": {
   "display_name": "Python 3",
   "language": "python",
   "name": "python3"
  }
 },
 "nbformat": 4,
 "nbformat_minor": 5
}
