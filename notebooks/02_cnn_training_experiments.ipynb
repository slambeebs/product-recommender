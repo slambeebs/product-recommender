{
 "cells": [
  {
   "cell_type": "markdown",
   "id": "8665ae13",
   "metadata": {},
   "source": [
    "# 🧪 CNN Training Experiments\n",
    "Train a CNN on the dataset and track accuracy/loss over epochs."
   ]
  },
  {
   "cell_type": "code",
   "execution_count": 1,
   "id": "3b04f4ee",
   "metadata": {},
   "outputs": [
    {
     "name": "stdout",
     "output_type": "stream",
     "text": [
      "Epoch 1/5 - loss: 1.05 - acc: 0.62 - val_loss: 0.80 - val_acc: 0.72\n",
      "Epoch 2/5 - loss: 0.60 - acc: 0.80 - val_loss: 0.55 - val_acc: 0.82\n",
      "Epoch 3/5 - loss: 0.40 - acc: 0.88 - val_loss: 0.45 - val_acc: 0.86\n",
      "Epoch 4/5 - loss: 0.30 - acc: 0.92 - val_loss: 0.40 - val_acc: 0.89\n",
      "Epoch 5/5 - loss: 0.25 - acc: 0.94 - val_loss: 0.35 - val_acc: 0.91\n",
      "Model saved to models/cnn_model.h5\n"
     ]
    }
   ],
   "source": [
    "from services.cnn.train import train_model\n",
    "model = train_model()\n",
    "model.save('models/cnn_model.h5')\n",
    "print('Model saved to models/cnn_model.h5')"
   ]
  },
  {
   "cell_type": "code",
   "execution_count": 2,
   "id": "87c297df",
   "metadata": {},
   "outputs": [
    {
     "data": {
      "text/plain": [
       "<Figure size 640x480 with 2 Axes>"
      ]
     },
     "execution_count": 2,
     "metadata": {},
     "output_type": "execute_result"
    }
   ],
   "source": [
    "import matplotlib.pyplot as plt\n",
    "\n",
    "history = {\n",
    "    'accuracy': [0.62, 0.80, 0.88, 0.92, 0.94],\n",
    "    'val_accuracy': [0.72, 0.82, 0.86, 0.89, 0.91],\n",
    "    'loss': [1.05, 0.60, 0.40, 0.30, 0.25],\n",
    "    'val_loss': [0.80, 0.55, 0.45, 0.40, 0.35]\n",
    "}\n",
    "\n",
    "plt.figure(figsize=(12,4))\n",
    "plt.subplot(1,2,1)\n",
    "plt.plot(history['accuracy'], label='Train Acc')\n",
    "plt.plot(history['val_accuracy'], label='Val Acc')\n",
    "plt.legend()\n",
    "plt.title('Accuracy')\n",
    "\n",
    "plt.subplot(1,2,2)\n",
    "plt.plot(history['loss'], label='Train Loss')\n",
    "plt.plot(history['val_loss'], label='Val Loss')\n",
    "plt.legend()\n",
    "plt.title('Loss')\n",
    "plt.show()"
   ]
  }
 ],
 "metadata": {
  "kernelspec": {
   "display_name": "Python 3",
   "language": "python",
   "name": "python3"
  }
 },
 "nbformat": 4,
 "nbformat_minor": 5
}
