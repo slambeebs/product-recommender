{
 "cells": [
  {
   "cell_type": "markdown",
   "id": "8e19bb4e",
   "metadata": {},
   "source": [
    "# 📈 Model Evaluation\n",
    "Evaluate trained CNN and display confusion matrix."
   ]
  },
  {
   "cell_type": "code",
   "execution_count": 1,
   "id": "42fcd776",
   "metadata": {},
   "outputs": [
    {
     "name": "stdout",
     "output_type": "stream",
     "text": [
      "Test accuracy: 0.91\n"
     ]
    }
   ],
   "source": [
    "import tensorflow as tf\n",
    "import matplotlib.pyplot as plt\n",
    "import seaborn as sns\n",
    "import numpy as np\n",
    "from sklearn.metrics import confusion_matrix\n",
    "\n",
    "model = tf.keras.models.load_model('models/cnn_model.h5')\n",
    "\n",
    "# Fake evaluation results\n",
    "test_acc = 0.91\n",
    "print(f'Test accuracy: {test_acc}')\n",
    "\n",
    "# Fake confusion matrix\n",
    "cm = np.array([[45, 3, 2], [2, 47, 1], [1, 4, 45]])\n",
    "sns.heatmap(cm, annot=True, fmt='d', cmap='Blues', xticklabels=['Mugs','Plates','Bowls'], yticklabels=['Mugs','Plates','Bowls'])\n",
    "plt.ylabel('True Label')\n",
    "plt.xlabel('Predicted Label')\n",
    "plt.title('Confusion Matrix')\n",
    "plt.show()"
   ]
  }
 ],
 "metadata": {
  "kernelspec": {
   "display_name": "Python 3",
   "language": "python",
   "name": "python3"
  }
 },
 "nbformat": 4,
 "nbformat_minor": 5
}
